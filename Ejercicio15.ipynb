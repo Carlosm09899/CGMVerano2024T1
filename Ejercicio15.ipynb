{
 "cells": [
  {
   "cell_type": "code",
   "execution_count": 1,
   "metadata": {},
   "outputs": [],
   "source": [
    "import CodeBase.Valeria as v\n",
    "import CodeBase.Carlos as c\n",
    "import CodeBase.Asael as am\n",
    "import CodeBase.Sebastian as s\n",
    "import CodeBase.Lizbeth as l\n",
    "import CodeBase.formatear_tabla as tabla\n",
    "\n",
    "import CodeBase.plot_poligono as p\n",
    "import CodeBase.indices as i\n",
    "import CodeBase.plot_hist as ht\n",
    "import CodeBase.plot_barras as br\n",
    "import CodeBase.plot_ojiva as o\n",
    "import CodeBase.plot_pie as pie\n",
    "import CodeBase.Manuel as m\n",
    "import CodeBase.Granados as g\n",
    "import CodeBase.Abraham as h\n",
    "import CodeBase.Calva as ca\n",
    "import CodeBase.Hernandez as z\n",
    "import CodeBase.tabla_letras as t"
   ]
  },
  {
   "cell_type": "markdown",
   "metadata": {},
   "source": [
    "15. Sociedad. En un estudio se desea conocer cuáles son los apellidos más comunes en México. Para\n",
    "ello se les preguntó a 100 personas su apellido y los resultados son los siguientes: "
   ]
  },
  {
   "cell_type": "markdown",
   "metadata": {},
   "source": [
    "lista = [\"ramirez\",\"rodriguez \",\" hernandez\",\"hernandez\", \"rodriguez\",\"rodriguez\",\n",
    "\"gonzalez\",\"gonzalez\",\"ramirez\",\"hernandez\", \"garcia\",\"martinez\",\"lopez\",\"gonzalez\",\"martinez\",\"lopez\",\n",
    "\"lopez\",\"gonzalez\",\"gutierrez\",\"martinez\",\"gonzalez\",\"rodriguez\",\"perez\",\"rodriguez\",\"ramirez\",\"sanchez\",\n",
    "\"martinez\",\"lopez\",\"sanchez\",\"garcia\",\"rodriguez\",\"hernandez\",\"gonzalez\",\"sanchez\",\"perez\",\"rodriguez\",\n",
    "\"lopez\",\"martinez\",\"flores\",\"hernandez\", \"perez\",\"garcia\",\"martinez\",\"hernandez\", \n",
    "\"sanchez\",\"ramirez\",\"garcia\",\"gonzalez\",\"garcia\",\"flores\",\"martinez\",\"garcia\",\n",
    "\"ramirez\",\"gonzalez\",\"hernandez\",\"lopez\",\"sanchez\",\"martinez\",\"martinez\",\"perez\",\"garcia\",\"gonzalez\",\n",
    "\"garcia\",\"gutierrez\",\"hernandez\", \"martinez\",\"garcia\",\"hernandez\", \"garcia\",\"gonzalez\",\"lopez\",\"hernandez\", \"rodriguez\",\n",
    "\"martinez\",\"gonzalez\",\"garcia\",\"hernandez\", \"ramirez\",\"flores\",\"hernandez\", \"gutierrez\",\"garcia\",\"hernandez\", \"gonzalez\",\"garcia\",\n",
    "\"garcia\",\"flores\",\"lopez\",\"perez\",\"sanchez\",\"lopez\",\"gutierrez\",\"sanchez\",\"rodriguez\",\"hernandez\",\"hernandez\", \"perez\",\"sanchez\",\n",
    "\"lopez\",\"martinez\",]"
   ]
  },
  {
   "cell_type": "markdown",
   "metadata": {},
   "source": [
    "a) Construye una tabla de frecuencias."
   ]
  },
  {
   "cell_type": "code",
   "execution_count": 8,
   "metadata": {},
   "outputs": [
    {
     "name": "stdout",
     "output_type": "stream",
     "text": [
      "Clases:  ['FLORES', 'GARCIA', 'GONZALEZ', 'GUTIERREZ', 'HERNANDEZ', 'LOPEZ', 'MARTINEZ', 'PEREZ', 'RAMIREZ', 'RODRIGUEZ', 'SANCHEZ']\n",
      "\n",
      "\n",
      "       Clases  Frecuencia absoluta  Frecuencia relativa  Frecuencia relativa acumulada\n",
      "0      FLORES                    4                  4.0                            4.0\n",
      "1      GARCIA                   14                 14.0                           18.0\n",
      "2    GONZALEZ                   12                 12.0                           30.0\n",
      "3   GUTIERREZ                    4                  4.0                           34.0\n",
      "4   HERNANDEZ                   15                 15.0                           49.0\n",
      "5       LOPEZ                   10                 10.0                           59.0\n",
      "6    MARTINEZ                   12                 12.0                           71.0\n",
      "7       PEREZ                    6                  6.0                           77.0\n",
      "8     RAMIREZ                    6                  6.0                           83.0\n",
      "9   RODRIGUEZ                    9                  9.0                           92.0\n",
      "10    SANCHEZ                    8                  8.0                          100.0\n",
      "\n",
      "\n"
     ]
    }
   ],
   "source": [
    "lista = [\"ramirez\",\"rodriguez \",\" hernandez\",\"hernandez\", \"rodriguez\",\"rodriguez\",\n",
    "\"gonzalez\",\"gonzalez\",\"ramirez\",\"hernandez\", \"garcia\",\"martinez\",\"lopez\",\"gonzalez\",\"martinez\",\"lopez\",\n",
    "\"lopez\",\"gonzalez\",\"gutierrez\",\"martinez\",\"gonzalez\",\"rodriguez\",\"perez\",\"rodriguez\",\"ramirez\",\"sanchez\",\n",
    "\"martinez\",\"lopez\",\"sanchez\",\"garcia\",\"rodriguez\",\"hernandez\",\"gonzalez\",\"sanchez\",\"perez\",\"rodriguez\",\n",
    "\"lopez\",\"martinez\",\"flores\",\"hernandez\", \"perez\",\"garcia\",\"martinez\",\"hernandez\", \n",
    "\"sanchez\",\"ramirez\",\"garcia\",\"gonzalez\",\"garcia\",\"flores\",\"martinez\",\"garcia\",\n",
    "\"ramirez\",\"gonzalez\",\"hernandez\",\"lopez\",\"sanchez\",\"martinez\",\"martinez\",\"perez\",\"garcia\",\"gonzalez\",\n",
    "\"garcia\",\"gutierrez\",\"hernandez\", \"martinez\",\"garcia\",\"hernandez\", \"garcia\",\"gonzalez\",\"lopez\",\"hernandez\", \"rodriguez\",\n",
    "\"martinez\",\"gonzalez\",\"garcia\",\"hernandez\", \"ramirez\",\"flores\",\"hernandez\", \"gutierrez\",\"garcia\",\"hernandez\", \"gonzalez\",\"garcia\",\n",
    "\"garcia\",\"flores\",\"lopez\",\"perez\",\"sanchez\",\"lopez\",\"gutierrez\",\"sanchez\",\"rodriguez\",\"hernandez\",\"hernandez\", \"perez\",\"sanchez\",\n",
    "\"lopez\",\"martinez\"]\n",
    "\n",
    "datos_nuevos= ca.formateando_str(lista)\n",
    "ordenadas=z.ordenar_cadenas(datos_nuevos) \n",
    "clases, fa_absoluta= v.frec_abs(ordenadas)\n",
    "clases_sorted = c.ordenar_asc(clases)\n",
    "fa_sorted = am.sort_clases_fa(clases, clases_sorted, fa_absoluta)\n",
    "frecuencia_relativa = s.obtener_frecuencia_relativa(fa_sorted)\n",
    "frecuencia_relativa_acumulada=l.obtener_frecuencia_relativa_acumulada(frecuencia_relativa)\n",
    "\n",
    "print (\"Clases: \", clases_sorted)\n",
    "\n",
    "marcas_clases= i.obtener_indices(clases)\n",
    "print()\n",
    "print()\n",
    "tabla=t.generar_tabla(clases, fa_sorted, frecuencia_relativa, frecuencia_relativa_acumulada)\n",
    "print()\n",
    "print()\n"
   ]
  },
  {
   "cell_type": "markdown",
   "metadata": {},
   "source": [
    "b) ¿Qué tipo de gráficas utilizarías para representar esta información? ¿Por qué?"
   ]
  },
  {
   "cell_type": "markdown",
   "metadata": {},
   "source": [
    "Me paerece que en la grafica de pastel se aprecia de mejor manera los datos"
   ]
  },
  {
   "cell_type": "markdown",
   "metadata": {},
   "source": [
    "c) Realiza las gráficas que propones en el inciso b"
   ]
  },
  {
   "cell_type": "code",
   "execution_count": null,
   "metadata": {},
   "outputs": [],
   "source": []
  }
 ],
 "metadata": {
  "kernelspec": {
   "display_name": "Python 3",
   "language": "python",
   "name": "python3"
  },
  "language_info": {
   "codemirror_mode": {
    "name": "ipython",
    "version": 3
   },
   "file_extension": ".py",
   "mimetype": "text/x-python",
   "name": "python",
   "nbconvert_exporter": "python",
   "pygments_lexer": "ipython3",
   "version": "3.12.1"
  }
 },
 "nbformat": 4,
 "nbformat_minor": 2
}
