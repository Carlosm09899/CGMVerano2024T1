{
 "cells": [
  {
   "cell_type": "code",
   "execution_count": 1,
   "metadata": {},
   "outputs": [],
   "source": [
    "import CodeBase.Valeria as v\n",
    "import CodeBase.Carlos as c\n",
    "import CodeBase.Asael as am\n",
    "import CodeBase.Sebastian as s\n",
    "import CodeBase.Lizbeth as l\n",
    "import CodeBase.formatear_tabla as tabla\n",
    "\n",
    "import CodeBase.plot_poligono as p\n",
    "import CodeBase.indices as i\n",
    "import CodeBase.plot_hist as ht\n",
    "import CodeBase.plot_barras as br\n",
    "import CodeBase.plot_ojiva as o\n",
    "import CodeBase.plot_pie as pie\n",
    "import CodeBase.Manuel as m\n",
    "import CodeBase.Granados as g\n",
    "import CodeBase.Abraham as h\n",
    "import CodeBase.Calva as ca\n",
    "import CodeBase.Hernandez as z\n",
    "import CodeBase.tabla_letras as t"
   ]
  },
  {
   "cell_type": "markdown",
   "metadata": {},
   "source": [
    "7. Deporte. Se entrevistó a 30 personas para que indicaran cuál es su equipo de futbol preferido. Los\n",
    "resultados fueron los siguientes:"
   ]
  },
  {
   "cell_type": "markdown",
   "metadata": {},
   "source": [
    "\"Pumas\", \"América\", \"Chivas\", \"Pumas\", \"Chivas\", \"Chivas\", \"América\", \"Toluca\", \"Toluca\", \"Pumas\", \"Santos\", \"Necaxa\", \"América\", \"América\", \"América\", \"Pumas\", \"Santos\", \"Pumas\", \"Pumas\", \"Pumas\", \"América\", \"Chivas\", \"América\", \"Pumas\", \"Necaxa\", \"Toluca\", \"Chivas\", \"América\", \"Toluca\", \"Santos\""
   ]
  },
  {
   "cell_type": "markdown",
   "metadata": {},
   "source": [
    "a. Construye la distribución de frecuencias correspondiente."
   ]
  },
  {
   "cell_type": "code",
   "execution_count": 3,
   "metadata": {},
   "outputs": [
    {
     "name": "stdout",
     "output_type": "stream",
     "text": [
      "Clases:  ['AMERICA', 'CHIVAS', 'NECAXA', 'PUMAS', 'SANTOS', 'TOLUCA']\n",
      "\n",
      "\n",
      "    Clases  Frecuencia absoluta  Frecuencia relativa  Frecuencia relativa acumulada\n",
      "0  AMERICA                    8            26.666667                      26.666667\n",
      "1   CHIVAS                    5            16.666667                      43.333333\n",
      "2   NECAXA                    2             6.666667                      50.000000\n",
      "3    PUMAS                    8            26.666667                      76.666667\n",
      "4   SANTOS                    3            10.000000                      86.666667\n",
      "5   TOLUCA                    4            13.333333                     100.000000\n",
      "\n",
      "\n"
     ]
    }
   ],
   "source": [
    "lista = [\"Pumas\", \"América\", \"Chivas\", \"Pumas\", \"Chivas\", \"Chivas\", \"América\", \"Toluca\", \"Toluca\", \"Pumas\", \"Santos\", \"Necaxa\", \"América\", \"América\", \"América\", \"Pumas\", \"Santos\", \"Pumas\", \"Pumas\", \"Pumas\", \"América\", \"Chivas\", \"América\", \"Pumas\", \"Necaxa\", \"Toluca\", \"Chivas\", \"América\", \"Toluca\", \"Santos\"]\n",
    "datos_nuevos= ca.formateando_str(lista)\n",
    "ordenadas=z.ordenar_cadenas(datos_nuevos) \n",
    "clases, fa_absoluta= v.frec_abs(ordenadas)\n",
    "clases_sorted = c.ordenar_asc(clases)\n",
    "fa_sorted = am.sort_clases_fa(clases, clases_sorted, fa_absoluta)\n",
    "print (\"Clases: \", clases_sorted)\n",
    "frecuencia_relativa = s.obtener_frecuencia_relativa(fa_sorted)\n",
    "frecuencia_relativa_acumulada=l.obtener_frecuencia_relativa_acumulada(frecuencia_relativa)\n",
    "marcas_clases= i.obtener_indices(clases)\n",
    "print()\n",
    "print()\n",
    "tabla=t.generar_tabla(clases, fa_sorted, frecuencia_relativa, frecuencia_relativa_acumulada)\n",
    "print()\n",
    "print()\n"
   ]
  },
  {
   "cell_type": "markdown",
   "metadata": {},
   "source": [
    "b. Construye un diagrama de barras y uno circular."
   ]
  },
  {
   "cell_type": "code",
   "execution_count": null,
   "metadata": {},
   "outputs": [],
   "source": []
  }
 ],
 "metadata": {
  "kernelspec": {
   "display_name": "Python 3",
   "language": "python",
   "name": "python3"
  },
  "language_info": {
   "codemirror_mode": {
    "name": "ipython",
    "version": 3
   },
   "file_extension": ".py",
   "mimetype": "text/x-python",
   "name": "python",
   "nbconvert_exporter": "python",
   "pygments_lexer": "ipython3",
   "version": "3.12.1"
  }
 },
 "nbformat": 4,
 "nbformat_minor": 2
}
