{
 "cells": [
  {
   "cell_type": "code",
   "execution_count": null,
   "metadata": {},
   "outputs": [],
   "source": [
    "import CodeBase.Valeria as v\n",
    "import CodeBase.Carlos as c\n",
    "import CodeBase.Asael as am\n",
    "import CodeBase.Sebastian as s\n",
    "import CodeBase.Lizbeth as l\n",
    "import CodeBase.formatear_tabla as tabla\n",
    "\n",
    "import CodeBase.plot_poligono as p\n",
    "import CodeBase.indices as i\n",
    "import CodeBase.plot_hist as ht\n",
    "import CodeBase.plot_barras as br\n",
    "import CodeBase.plot_ojiva as o\n",
    "import CodeBase.plot_pie as pie\n",
    "import CodeBase.Manuel as m\n",
    "import CodeBase.Granados as g\n",
    "import CodeBase.Abraham as h\n",
    "import CodeBase.Calva as ca\n",
    "import CodeBase.Hernandez as z\n",
    "import CodeBase.tabla_letras as t"
   ]
  },
  {
   "cell_type": "markdown",
   "metadata": {},
   "source": [
    "8. Tecnología. Se preguntó a 30 jóvenes cuántas horas dedicaban cada día a navegar en internet (el\n",
    "tiempo que dedican a sesiones de chat y a las redes sociales quedan incluidos). Los resultados\n",
    "son los siguientes:"
   ]
  },
  {
   "cell_type": "markdown",
   "metadata": {},
   "source": [
    "2.5 4.5 5.8 2.2 5.7\n",
    "5.3 4.0 0.9 2.5 2.3\n",
    "3.2 4.9 2.7 3.7 3.8\n",
    "4.9 2.8 3.6 4.2 3.1\n",
    "7.2 1.9 5.9 3.3 2.9\n",
    "1.1 1.7 2.6 3.1 4.4"
   ]
  },
  {
   "cell_type": "markdown",
   "metadata": {},
   "source": [
    "a. ¿Qué tipo de datos se maneja en este problema?\n",
    "\n",
    "R = Cuantitativos continuos"
   ]
  },
  {
   "cell_type": "code",
   "execution_count": null,
   "metadata": {},
   "outputs": [],
   "source": []
  }
 ],
 "metadata": {
  "kernelspec": {
   "display_name": "Python 3",
   "language": "python",
   "name": "python3"
  },
  "language_info": {
   "codemirror_mode": {
    "name": "ipython",
    "version": 3
   },
   "file_extension": ".py",
   "mimetype": "text/x-python",
   "name": "python",
   "nbconvert_exporter": "python",
   "pygments_lexer": "ipython3",
   "version": "3.12.1"
  }
 },
 "nbformat": 4,
 "nbformat_minor": 2
}
